{
 "cells": [
  {
   "cell_type": "markdown",
   "execution_count": 1,
   "metadata": {},
   "outputs": [],
   "source": [
    "# Notificações\n",
    "## Importando Bibliotecas"
   ]
  },
  {
   "cell_type": "code",
   "execution_count": 1,
   "metadata": {},
   "outputs": [],
   "source": [
    "import pandas as pd\n",
    "import matplotlib.pyplot as plt\n",
    "import numpy as np\n",
    "from IPython.display import display, HTML\n",
    "import collections\n",
    "from random import random"
   ]
  },
  {
   "cell_type": "code",
   "execution_count": 2,
   "metadata": {},
   "outputs": [],
   "source": [
    "# separando por episódio e definido as semanas\n",
    "def episode_split(df, id):\n",
    "    dfcopy = df.copy()\n",
    "    dfcopy = dfcopy.loc[dfcopy['episode_id'] == id]\n",
    "    #Separa o episódio por semanas\n",
    "    index_week = dfcopy.loc[dfcopy['goal'] == 19611, 'goal'].index.to_list()\n",
    "    k = 0\n",
    "    week = []\n",
    "    for x in range(dfcopy.shape[0]):\n",
    "        week.append(k)\n",
    "        if x in index_week:\n",
    "            k += 1\n",
    "    w = pd.Series(week, name= \"week\")\n",
    "    episode = pd.concat([dfcopy, w], axis = 1)\n",
    "    return episode"
   ]
  },
  {
   "cell_type": "code",
   "execution_count": 3,
   "metadata": {},
   "outputs": [],
   "source": [
    "def team_time(df):\n",
    "    dfcopy = df.copy()\n",
    "    weeks = []\n",
    "    teams = dfcopy['team_id'].unique()\n",
    "    for x in teams:\n",
    "        weeks.append(len(dfcopy.loc[(dfcopy['team_id'] == x) & (dfcopy['goal'] == 19611), ['team_id']]))\n",
    "    days = np.array(weeks) * 7\n",
    "    return pd.DataFrame(pd.DataFrame({'team_id':teams, 'weeks':weeks, 'days':days}))\n",
    "    "
   ]
  },
  {
   "cell_type": "code",
   "execution_count": 4,
   "metadata": {},
   "outputs": [],
   "source": [
    "#Necessário estabelecer média de cada time pois o tempo corrente individualmente é diferente\n",
    "def player_mean(df, interval='days'):\n",
    "    dfcopy = df.copy()\n",
    "    weeks = []\n",
    "    time = team_time(dfcopy)\n",
    "    aux = dfcopy[['team_id', 'player_id', 'score']]\n",
    "    aux['score'] /= (aux['team_id'].map(time.set_index('team_id')['days']))\n",
    "    gp = aux.groupby(['player_id'], as_index=False).mean()\n",
    "\n",
    "    player_pivot = gp.pivot(index= 'player_id', columns='team_id', values='score')\n",
    "    player_pivot.columns = player_pivot.columns.astype('str')\n",
    "    player_mean = player_pivot.sort_values(player_pivot.columns.to_list(), ascending=False, na_position='last')\n",
    "    return player_mean\n"
   ]
  },
  {
   "cell_type": "code",
   "execution_count": 14,
   "metadata": {},
   "outputs": [],
   "source": [
    "#Realiza uma simulação do score do time \n",
    "def score_simulation(df):\n",
    "    dfcopy = df.copy()\n",
    "    \n",
    "    for j in dfcopy.columns.astype('str'):\n",
    "        normal_va = np.random.normal(dfcopy[j].mean(), dfcopy[j].std(), len(dfcopy.index))\n",
    "        normal_va = np.absolute(normal_va)\n",
    "        normal_va = pd.DataFrame({'score':normal_va}).set_index(dfcopy.index)\n",
    "    \n",
    "        for i in dfcopy.index:\n",
    "            for x in pd.isna(dfcopy.loc[dfcopy.index == i, [j]])[j].to_list():\n",
    "                if x:\n",
    "                    dfcopy.loc[dfcopy.index == i,[j]] = np.NaN\n",
    "                else:\n",
    "                    dfcopy.loc[dfcopy.index == i,[j]] = normal_va.loc[normal_va.index== i,:]['score']\n",
    "    dfcopy = dfcopy.sort_values(dfcopy.columns.to_list(), ascending=False, na_position='last')\n",
    "    return dfcopy"
   ]
  },
  {
   "cell_type": "code",
   "execution_count": 6,
   "metadata": {},
   "outputs": [],
   "source": [
    "def notification(df, time='day'):\n",
    "   pass #Um dataframe é passado por referência portanto é nescessário realizar uma cópia\n"
   ]
  },
  {
   "cell_type": "code",
   "execution_count": 7,
   "metadata": {},
   "outputs": [],
   "source": [
    "results = pd.read_csv(\"../compiled_result.csv\")"
   ]
  },
  {
   "cell_type": "code",
   "execution_count": 8,
   "metadata": {},
   "outputs": [],
   "source": [
    "results.drop(labels=['goal_type', 'score'], axis=1, inplace=True)"
   ]
  },
  {
   "cell_type": "markdown",
   "metadata": {},
   "source": [
    "## Selecionando o episódio com ID 35, pois contém maior volume de dados"
   ]
  },
  {
   "cell_type": "code",
   "execution_count": 9,
   "metadata": {},
   "outputs": [],
   "source": [
    "episode = episode_split(results, 35)"
   ]
  },
  {
   "cell_type": "markdown",
   "execution_count": null,
   "metadata": {},
   "outputs": [],
   "source": [
    "## Estabelecendo um Score"
   ]
  },
  {
   "cell_type": "code",
   "execution_count": 10,
   "metadata": {},
   "outputs": [],
   "source": [
    "#define pesos para os indicadores\n",
    "idc_unq = episode['indicator_id'].unique()\n",
    "np.array(idc_unq)\n",
    "indicators = pd.DataFrame(data={ 'indicator_id': idc_unq, 'weight': [1, 2, 1, 1, 3, 2, 1]})"
   ]
  },
  {
   "cell_type": "code",
   "execution_count": 11,
   "metadata": {},
   "outputs": [],
   "source": [
    "#Define o score dos players\n",
    "episode = episode.merge(indicators , how='left')\n",
    "episode['score'] = episode['result'] * episode['weight']"
   ]
  },
  {
   "cell_type": "markdown",
   "execution_count": null,
   "metadata": {},
   "outputs": [],
   "source": [
    "## Média diária ou semanal dos players"
   ]
  },
  {
   "cell_type": "code",
   "execution_count": 12,
   "metadata": {},
   "outputs": [
    {
     "name": "stderr",
     "output_type": "stream",
     "text": "/home/felipe/anaconda3/lib/python3.7/site-packages/ipykernel_launcher.py:7: SettingWithCopyWarning: \nA value is trying to be set on a copy of a slice from a DataFrame.\nTry using .loc[row_indexer,col_indexer] = value instead\n\nSee the caveats in the documentation: http://pandas.pydata.org/pandas-docs/stable/user_guide/indexing.html#returning-a-view-versus-a-copy\n  import sys\n"
    }
   ],
   "source": [
    "player_mean = player_mean(episode, interval='days')\n",
    "player_mean = player_mean.drop(labels=['41'], axis=1) #Nescessário eliminar o time 41 pela falta de dados"
   ]
  },
  {
   "cell_type": "code",
   "execution_count": 15,
   "metadata": {},
   "outputs": [],
   "source": [
    "player_sim = score_simulation(player_mean)"
   ]
  },
  {
   "cell_type": "markdown",
   "execution_count": null,
   "metadata": {},
   "outputs": [],
   "source": [
    "## Notificão pela média diária"
   ]
  }
 ],
 "metadata": {
  "file_extension": ".py",
  "kernelspec": {
   "display_name": "Python 3.7.4 64-bit ('anaconda3': virtualenv)",
   "language": "python",
   "name": "python37464bitanaconda3virtualenvea5c76fdffc14744a7fba431329f5f6f"
  },
  "language_info": {
   "codemirror_mode": {
    "name": "ipython",
    "version": 3
   },
   "file_extension": ".py",
   "mimetype": "text/x-python",
   "name": "python",
   "nbconvert_exporter": "python",
   "pygments_lexer": "ipython3",
   "version": "3.7.4-final"
  },
  "mimetype": "text/x-python",
  "name": "python",
  "npconvert_exporter": "python",
  "pygments_lexer": "ipython3",
  "version": 3
 },
 "nbformat": 4,
 "nbformat_minor": 2
}