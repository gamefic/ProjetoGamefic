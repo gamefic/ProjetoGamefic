{
 "cells": [
  {
   "cell_type": "markdown",
   "execution_count": 1,
   "metadata": {},
   "outputs": [],
   "source": [
    "# Notificações\n",
    "## Importando Bibliotecas"
   ]
  },
  {
   "cell_type": "code",
   "execution_count": 5,
   "metadata": {},
   "outputs": [],
   "source": [
    "import pandas as pd\n",
    "import matplotlib.pyplot as plt\n",
    "import numpy as np\n",
    "from IPython.display import display, HTML"
   ]
  },
  {
   "cell_type": "code",
   "execution_count": 6,
   "metadata": {},
   "outputs": [],
   "source": [
    "results = pd.read_csv(\"compiled_result.csv\")"
   ]
  },
  {
   "cell_type": "code",
   "execution_count": 7,
   "metadata": {},
   "outputs": [],
   "source": [
    "# display(results)"
   ]
  },
  {
   "cell_type": "code",
   "execution_count": 8,
   "metadata": {},
   "outputs": [],
   "source": [
    "results.drop(labels=['goal_type'], axis=1, inplace=True)"
   ]
  },
  {
   "cell_type": "code",
   "execution_count": 9,
   "metadata": {},
   "outputs": [],
   "source": [
    "index_week = results.loc[results['goal'] == 19611, 'goal'].index.to_list()"
   ]
  },
  {
   "cell_type": "markdown",
   "metadata": {},
   "source": [
    "## Separa os episódios em semanas"
   ]
  },
  {
   "cell_type": "code",
   "execution_count": 10,
   "metadata": {},
   "outputs": [
    {
     "data": {
      "text/html": "<div>\n<style scoped>\n    .dataframe tbody tr th:only-of-type {\n        vertical-align: middle;\n    }\n\n    .dataframe tbody tr th {\n        vertical-align: top;\n    }\n\n    .dataframe thead th {\n        text-align: right;\n    }\n</style>\n<table border=\"1\" class=\"dataframe\">\n  <thead>\n    <tr style=\"text-align: right;\">\n      <th></th>\n      <th>episode_id</th>\n      <th>team_id</th>\n      <th>player_id</th>\n      <th>indicator_id</th>\n      <th>result</th>\n      <th>score</th>\n      <th>goal</th>\n      <th>week</th>\n    </tr>\n  </thead>\n  <tbody>\n    <tr>\n      <td>0</td>\n      <td>35</td>\n      <td>37</td>\n      <td>119</td>\n      <td>469</td>\n      <td>0.0</td>\n      <td>0.0</td>\n      <td>19611</td>\n      <td>0</td>\n    </tr>\n    <tr>\n      <td>1</td>\n      <td>35</td>\n      <td>37</td>\n      <td>119</td>\n      <td>470</td>\n      <td>0.0</td>\n      <td>NaN</td>\n      <td>0</td>\n      <td>1</td>\n    </tr>\n    <tr>\n      <td>2</td>\n      <td>35</td>\n      <td>37</td>\n      <td>119</td>\n      <td>471</td>\n      <td>0.0</td>\n      <td>NaN</td>\n      <td>0</td>\n      <td>1</td>\n    </tr>\n    <tr>\n      <td>3</td>\n      <td>35</td>\n      <td>37</td>\n      <td>119</td>\n      <td>472</td>\n      <td>0.0</td>\n      <td>NaN</td>\n      <td>0</td>\n      <td>1</td>\n    </tr>\n    <tr>\n      <td>4</td>\n      <td>35</td>\n      <td>37</td>\n      <td>119</td>\n      <td>473</td>\n      <td>0.0</td>\n      <td>NaN</td>\n      <td>0</td>\n      <td>1</td>\n    </tr>\n    <tr>\n      <td>...</td>\n      <td>...</td>\n      <td>...</td>\n      <td>...</td>\n      <td>...</td>\n      <td>...</td>\n      <td>...</td>\n      <td>...</td>\n      <td>...</td>\n    </tr>\n    <tr>\n      <td>995</td>\n      <td>22</td>\n      <td>24</td>\n      <td>110</td>\n      <td>263</td>\n      <td>21.0</td>\n      <td>NaN</td>\n      <td>0</td>\n      <td>100</td>\n    </tr>\n    <tr>\n      <td>996</td>\n      <td>22</td>\n      <td>24</td>\n      <td>110</td>\n      <td>264</td>\n      <td>203131.0</td>\n      <td>NaN</td>\n      <td>0</td>\n      <td>100</td>\n    </tr>\n    <tr>\n      <td>997</td>\n      <td>22</td>\n      <td>24</td>\n      <td>110</td>\n      <td>265</td>\n      <td>0.0</td>\n      <td>NaN</td>\n      <td>0</td>\n      <td>100</td>\n    </tr>\n    <tr>\n      <td>998</td>\n      <td>22</td>\n      <td>24</td>\n      <td>110</td>\n      <td>266</td>\n      <td>111.0</td>\n      <td>NaN</td>\n      <td>0</td>\n      <td>100</td>\n    </tr>\n    <tr>\n      <td>999</td>\n      <td>22</td>\n      <td>24</td>\n      <td>110</td>\n      <td>267</td>\n      <td>107.0</td>\n      <td>NaN</td>\n      <td>0</td>\n      <td>100</td>\n    </tr>\n  </tbody>\n</table>\n<p>1000 rows × 8 columns</p>\n</div>",
      "text/plain": "     episode_id  team_id  player_id  indicator_id    result  score   goal  \\\n0            35       37        119           469       0.0    0.0  19611   \n1            35       37        119           470       0.0    NaN      0   \n2            35       37        119           471       0.0    NaN      0   \n3            35       37        119           472       0.0    NaN      0   \n4            35       37        119           473       0.0    NaN      0   \n..          ...      ...        ...           ...       ...    ...    ...   \n995          22       24        110           263      21.0    NaN      0   \n996          22       24        110           264  203131.0    NaN      0   \n997          22       24        110           265       0.0    NaN      0   \n998          22       24        110           266     111.0    NaN      0   \n999          22       24        110           267     107.0    NaN      0   \n\n     week  \n0       0  \n1       1  \n2       1  \n3       1  \n4       1  \n..    ...  \n995   100  \n996   100  \n997   100  \n998   100  \n999   100  \n\n[1000 rows x 8 columns]"
     },
     "execution_count": 10,
     "metadata": {},
     "output_type": "execute_result"
    }
   ],
   "source": [
    "k = 0\n",
    "week = []\n",
    "for x in range(results.shape[0]):\n",
    "    week.append(k)\n",
    "    if x in index_week:\n",
    "        k += 1\n",
    "w = pd.Series(week, name= \"week\")\n",
    "results = pd.concat([results, w], axis = 1)\n",
    "results"
   ]
  },
  {
   "cell_type": "code",
   "execution_count": 11,
   "metadata": {},
   "outputs": [],
   "source": [
    "epi_unq = results['episode_id'].unique()"
   ]
  },
  {
   "cell_type": "markdown",
   "metadata": {},
   "source": [
    "## Selecionando o episódio com ID 35, pois contém maior volume de dados"
   ]
  },
  {
   "cell_type": "code",
   "execution_count": 14,
   "metadata": {},
   "outputs": [
    {
     "data": {
      "text/html": "<div>\n<style scoped>\n    .dataframe tbody tr th:only-of-type {\n        vertical-align: middle;\n    }\n\n    .dataframe tbody tr th {\n        vertical-align: top;\n    }\n\n    .dataframe thead th {\n        text-align: right;\n    }\n</style>\n<table border=\"1\" class=\"dataframe\">\n  <thead>\n    <tr style=\"text-align: right;\">\n      <th></th>\n      <th>episode_id</th>\n      <th>team_id</th>\n      <th>player_id</th>\n      <th>indicator_id</th>\n      <th>result</th>\n      <th>score</th>\n      <th>goal</th>\n      <th>week</th>\n    </tr>\n  </thead>\n  <tbody>\n    <tr>\n      <td>0</td>\n      <td>35</td>\n      <td>37</td>\n      <td>119</td>\n      <td>469</td>\n      <td>0.0</td>\n      <td>0.0</td>\n      <td>19611</td>\n      <td>0</td>\n    </tr>\n    <tr>\n      <td>1</td>\n      <td>35</td>\n      <td>37</td>\n      <td>119</td>\n      <td>470</td>\n      <td>0.0</td>\n      <td>NaN</td>\n      <td>0</td>\n      <td>1</td>\n    </tr>\n    <tr>\n      <td>2</td>\n      <td>35</td>\n      <td>37</td>\n      <td>119</td>\n      <td>471</td>\n      <td>0.0</td>\n      <td>NaN</td>\n      <td>0</td>\n      <td>1</td>\n    </tr>\n    <tr>\n      <td>3</td>\n      <td>35</td>\n      <td>37</td>\n      <td>119</td>\n      <td>472</td>\n      <td>0.0</td>\n      <td>NaN</td>\n      <td>0</td>\n      <td>1</td>\n    </tr>\n    <tr>\n      <td>4</td>\n      <td>35</td>\n      <td>37</td>\n      <td>119</td>\n      <td>473</td>\n      <td>0.0</td>\n      <td>NaN</td>\n      <td>0</td>\n      <td>1</td>\n    </tr>\n    <tr>\n      <td>...</td>\n      <td>...</td>\n      <td>...</td>\n      <td>...</td>\n      <td>...</td>\n      <td>...</td>\n      <td>...</td>\n      <td>...</td>\n      <td>...</td>\n    </tr>\n    <tr>\n      <td>695</td>\n      <td>35</td>\n      <td>41</td>\n      <td>218</td>\n      <td>471</td>\n      <td>0.0</td>\n      <td>NaN</td>\n      <td>0</td>\n      <td>100</td>\n    </tr>\n    <tr>\n      <td>696</td>\n      <td>35</td>\n      <td>41</td>\n      <td>218</td>\n      <td>472</td>\n      <td>0.0</td>\n      <td>NaN</td>\n      <td>0</td>\n      <td>100</td>\n    </tr>\n    <tr>\n      <td>697</td>\n      <td>35</td>\n      <td>41</td>\n      <td>218</td>\n      <td>473</td>\n      <td>0.0</td>\n      <td>NaN</td>\n      <td>0</td>\n      <td>100</td>\n    </tr>\n    <tr>\n      <td>698</td>\n      <td>35</td>\n      <td>41</td>\n      <td>218</td>\n      <td>474</td>\n      <td>0.0</td>\n      <td>NaN</td>\n      <td>0</td>\n      <td>100</td>\n    </tr>\n    <tr>\n      <td>699</td>\n      <td>35</td>\n      <td>41</td>\n      <td>218</td>\n      <td>475</td>\n      <td>0.0</td>\n      <td>NaN</td>\n      <td>0</td>\n      <td>100</td>\n    </tr>\n  </tbody>\n</table>\n<p>700 rows × 8 columns</p>\n</div>",
      "text/plain": "     episode_id  team_id  player_id  indicator_id  result  score   goal  week\n0            35       37        119           469     0.0    0.0  19611     0\n1            35       37        119           470     0.0    NaN      0     1\n2            35       37        119           471     0.0    NaN      0     1\n3            35       37        119           472     0.0    NaN      0     1\n4            35       37        119           473     0.0    NaN      0     1\n..          ...      ...        ...           ...     ...    ...    ...   ...\n695          35       41        218           471     0.0    NaN      0   100\n696          35       41        218           472     0.0    NaN      0   100\n697          35       41        218           473     0.0    NaN      0   100\n698          35       41        218           474     0.0    NaN      0   100\n699          35       41        218           475     0.0    NaN      0   100\n\n[700 rows x 8 columns]"
     },
     "execution_count": 14,
     "metadata": {},
     "output_type": "execute_result"
    }
   ],
   "source": [
    "episode = results.loc[results['episode_id'] == epi_unq[0]]\n",
    "episode"
   ]
  },
  {
   "cell_type": "code",
   "execution_count": 15,
   "metadata": {},
   "outputs": [
    {
     "data": {
      "text/plain": "array([469, 470, 471, 472, 473, 474, 475])"
     },
     "execution_count": 15,
     "metadata": {},
     "output_type": "execute_result"
    }
   ],
   "source": [
    "idc_unq = episode['indicator_id'].unique()\n",
    "idc_unq"
   ]
  },
  {
   "cell_type": "code",
   "execution_count": null,
   "metadata": {},
   "outputs": [],
   "source": []
  }
 ],
 "metadata": {
  "file_extension": ".py",
  "kernelspec": {
   "display_name": "Python 3.7.4 64-bit ('anaconda3': virtualenv)",
   "language": "python",
   "name": "python37464bitanaconda3virtualenvea5c76fdffc14744a7fba431329f5f6f"
  },
  "language_info": {
   "codemirror_mode": {
    "name": "ipython",
    "version": 3
   },
   "file_extension": ".py",
   "mimetype": "text/x-python",
   "name": "python",
   "nbconvert_exporter": "python",
   "pygments_lexer": "ipython3",
   "version": "3.7.4-final"
  },
  "mimetype": "text/x-python",
  "name": "python",
  "npconvert_exporter": "python",
  "pygments_lexer": "ipython3",
  "version": 3
 },
 "nbformat": 4,
 "nbformat_minor": 2
}